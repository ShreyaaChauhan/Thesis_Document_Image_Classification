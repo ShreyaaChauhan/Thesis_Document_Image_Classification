{
 "cells": [
  {
   "cell_type": "code",
   "execution_count": 2,
   "metadata": {},
   "outputs": [
    {
     "name": "stdout",
     "output_type": "stream",
     "text": [
      "List of Subfolders\n",
      "['/Users/shreyachauhan/Thesis_Document_Image_Classification/model/data/Tobacco3482_full/Train/Note', '/Users/shreyachauhan/Thesis_Document_Image_Classification/model/data/Tobacco3482_full/Train/Form', '/Users/shreyachauhan/Thesis_Document_Image_Classification/model/data/Tobacco3482_full/Train/ADVE', '/Users/shreyachauhan/Thesis_Document_Image_Classification/model/data/Tobacco3482_full/Train/Resume', '/Users/shreyachauhan/Thesis_Document_Image_Classification/model/data/Tobacco3482_full/Train/Letter', '/Users/shreyachauhan/Thesis_Document_Image_Classification/model/data/Tobacco3482_full/Train/News', '/Users/shreyachauhan/Thesis_Document_Image_Classification/model/data/Tobacco3482_full/Train/Memo', '/Users/shreyachauhan/Thesis_Document_Image_Classification/model/data/Tobacco3482_full/Train/Report', '/Users/shreyachauhan/Thesis_Document_Image_Classification/model/data/Tobacco3482_full/Train/Email', '/Users/shreyachauhan/Thesis_Document_Image_Classification/model/data/Tobacco3482_full/Train/Scientific']\n"
     ]
    }
   ],
   "source": [
    "import os\n",
    "import shutil\n",
    "\n",
    "# find . -name \".DS_Store\" -delete\n",
    "rootdir = \"/Users/shreyachauhan/Thesis_Document_Image_Classification/model/data/Tobacco3482_full/Train\"\n",
    "sub_dir = os.listdir(rootdir)  # list of subdirectories and files\n",
    "sub_dirs_path = [os.path.join(rootdir, x) for x in sub_dir]\n",
    "print(\"List of Subfolders\")\n",
    "print(sub_dirs_path)"
   ]
  },
  {
   "cell_type": "code",
   "execution_count": 3,
   "metadata": {},
   "outputs": [
    {
     "name": "stdout",
     "output_type": "stream",
     "text": [
      "96 496\n"
     ]
    }
   ],
   "source": [
    "Dataset_info = []\n",
    "class_number = []\n",
    "for path in sub_dirs_path:\n",
    "    data_class = path.split('/')[-1]\n",
    "    images = list(filter(lambda x: x.endswith('.jpg'), os.listdir(path)))\n",
    "    class_number.append(len(images))\n",
    "    Dataset_info.append({\"class\": data_class, \"total_images\": len(images), \"images\": images})\n",
    "\n",
    "min_image_length = min(class_number)\n",
    "max_image_length = max(class_number)\n",
    "print(min_image_length, max_image_length)\n",
    "    "
   ]
  },
  {
   "cell_type": "code",
   "execution_count": 4,
   "metadata": {},
   "outputs": [
    {
     "name": "stdout",
     "output_type": "stream",
     "text": [
      "Note 161\n",
      "Form 345\n",
      "ADVE 184\n",
      "Resume 96\n",
      "Letter 454\n",
      "News 150\n",
      "Memo 496\n",
      "Report 212\n",
      "Email 479\n",
      "Scientific 209\n"
     ]
    }
   ],
   "source": [
    "for data in Dataset_info:\n",
    "    print(data[\"class\"], data[\"total_images\"])"
   ]
  },
  {
   "cell_type": "markdown",
   "metadata": {},
   "source": [
    "Create tobacco3482 dataset with 120 images each class \n",
    "```\n",
    "Train [100] images\n",
    "|___ ADVE\n",
    "|___ Email\n",
    "|___ Form\n",
    "|___ ...\n",
    "Test [20] images\n",
    "|___ ADVE\n",
    "|___ Email\n",
    "|___ Form\n",
    "|___ ...\n",
    "```"
   ]
  },
  {
   "cell_type": "code",
   "execution_count": null,
   "metadata": {},
   "outputs": [],
   "source": [
    "import random\n",
    "#folder creation\n",
    "root = \"/\".join(rootdir.split('/')[:-1])\n",
    "dataset_name =  \"Tobacco3482_Complete\"\n",
    "os.makedirs( os.path.join( root, dataset_name),  exist_ok=True)\n",
    "os.makedirs(os.path.join( root, dataset_name,\"Train\"), exist_ok=True)\n",
    "os.makedirs(os.path.join( root, dataset_name,\"Test\"), exist_ok=True)\n",
    "\n",
    "for data in Dataset_info:\n",
    "    train_images = list(set(data[\"images\"]))\n",
    "    test_images = list(set(data[\"images\"]))\n",
    "    random.shuffle(train_images)\n",
    "    random.shuffle(test_images)\n",
    "    #print(train_images)\n",
    "    print(train_images)\n",
    "    \"\"\"\n",
    "    train_image_path = os.path.join( root, dataset_name,\"Train\")\n",
    "    train_image_path = os.path.join( root, dataset_name,\"Test\")\n",
    "    \n",
    "    os.makedirs(os.path.join( root, dataset_name,\"Train\",data[\"class\"]), exist_ok=True)\n",
    "    os.makedirs(os.path.join( root, dataset_name,\"Test\",data[\"class\"]), exist_ok=True)\n",
    "    \n",
    "    for image in train_images:\n",
    "        src_jpg = os.path.join(rootdir,data[\"class\"],image)\n",
    "        dst_path = os.path.join(root,dataset_name,\"Train\",data[\"class\"])\n",
    "        shutil.copy(src_jpg, dst_path)\n",
    "    \n",
    "    for image in test_images:\n",
    "        src_jpg = os.path.join(rootdir,data[\"class\"],image)\n",
    "        dst_path = os.path.join(root,dataset_name,\"Test\",data[\"class\"])\n",
    "        shutil.copy(src_jpg, dst_path)\n",
    "    \n",
    "        \n",
    "    \n",
    "    print(\"Data saved!!!\")\"\"\""
   ]
  },
  {
   "cell_type": "code",
   "execution_count": null,
   "metadata": {},
   "outputs": [],
   "source": [
    "os.listdir(rootdir)"
   ]
  },
  {
   "cell_type": "code",
   "execution_count": null,
   "metadata": {},
   "outputs": [],
   "source": [
    "import os\n",
    "import shutil\n",
    "# find . -name \".DS_Store\" -delete\n",
    "rootdir = \"/Users/shreyachauhan/Thesis_Document_Image_Classification/model/data/Tobacco3482\"\n",
    "sub_dir = os.listdir(rootdir)  # list of subdirectories and files\n",
    "sub_dirs_path = [os.path.join(rootdir, x) for x in sub_dir]\n",
    "print(\"List of Subfolders\")\n",
    "print(sub_dirs_path)"
   ]
  },
  {
   "cell_type": "code",
   "execution_count": null,
   "metadata": {},
   "outputs": [],
   "source": [
    "class_number = []\n",
    "Dataset_info = []\n",
    "for path in sub_dirs_path:\n",
    "    data_class = path.split('/')[-1]\n",
    "    images = list(filter(lambda x: x.endswith('.jpg'), os.listdir(path)))\n",
    "    class_number.append(len(images))\n",
    "    Dataset_info.append({\"class\": data_class, \"total_images\": len(images), \"images\": images})"
   ]
  },
  {
   "cell_type": "markdown",
   "metadata": {},
   "source": [
    "- [ ] Shuffle images in Dataset_info"
   ]
  },
  {
   "cell_type": "code",
   "execution_count": null,
   "metadata": {},
   "outputs": [],
   "source": [
    "import random\n",
    "# folder creation for dataset\n",
    "root = \"/\".join(rootdir.split('/')[:-1])\n",
    "dataset_name =  \"Tobacco3482_120_1\"\n",
    "os.makedirs( os.path.join( root, dataset_name),  exist_ok=True)\n",
    "os.makedirs(os.path.join( root, dataset_name,\"Train\"), exist_ok=True)\n",
    "os.makedirs(os.path.join( root, dataset_name,\"Test\"), exist_ok=True)\n",
    "print(root)"
   ]
  },
  {
   "cell_type": "code",
   "execution_count": null,
   "metadata": {},
   "outputs": [],
   "source": [
    "for data in Dataset_info:\n",
    "    total_images = list(set(data[\"images\"]))\n",
    "    random.shuffle(total_images)\n",
    "    \n",
    "    images = total_images[:120]\n",
    "    random.shuffle(images)\n",
    "    train_images = images[:100]\n",
    "    test_images = images[100:]\n",
    "    os.makedirs(os.path.join( root, dataset_name,\"Train\",data[\"class\"]), exist_ok=True)\n",
    "    os.makedirs(os.path.join( root, dataset_name,\"Train\",data[\"class\"]), exist_ok=True)\n",
    "    print(len(train_images))\n",
    "    print(len(test_images))\n",
    "    for image in train_images:\n",
    "        src_jpg = os.path.join(rootdir,data[\"class\"],image)\n",
    "        dst_path = os.path.join(root,dataset_name,\"Train\",data[\"class\"])\n",
    "        shutil.copy(src_jpg, dst_path)\n",
    "    \n",
    "    for image in test_images:\n",
    "        src_jpg = os.path.join(rootdir,data[\"class\"],image)\n",
    "        dst_path = os.path.join(root,dataset_name,\"Test\",data[\"class\"])\n",
    "        shutil.copy(src_jpg, dst_path)\n",
    "    \n",
    "print(\"data_saved\")\n",
    "    "
   ]
  },
  {
   "cell_type": "code",
   "execution_count": null,
   "metadata": {},
   "outputs": [],
   "source": [
    "def check_length(path):\n",
    "\n",
    "    files = os.listdir(path)\n",
    "    return len(files)\n",
    "    \n",
    "print(check_length(\"/Users/shreyachauhan/Thesis_Document_Image_Classification/model/data/Tobacco3482_full/Train/ADVE\"))"
   ]
  },
  {
   "cell_type": "code",
   "execution_count": null,
   "metadata": {},
   "outputs": [],
   "source": []
  }
 ],
 "metadata": {
  "kernelspec": {
   "display_name": "Python 3.7.7 ('openmmlab')",
   "language": "python",
   "name": "python3"
  },
  "language_info": {
   "codemirror_mode": {
    "name": "ipython",
    "version": 3
   },
   "file_extension": ".py",
   "mimetype": "text/x-python",
   "name": "python",
   "nbconvert_exporter": "python",
   "pygments_lexer": "ipython3",
   "version": "3.10.8"
  },
  "orig_nbformat": 4,
  "vscode": {
   "interpreter": {
    "hash": "7a22b6ff7e8e1efce68d1e85ea870fea71b659531b8e68f85ecde4a6144f3e86"
   }
  }
 },
 "nbformat": 4,
 "nbformat_minor": 2
}
